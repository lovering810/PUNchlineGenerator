{
 "cells": [
  {
   "cell_type": "code",
   "execution_count": 2,
   "metadata": {
    "collapsed": false
   },
   "outputs": [],
   "source": [
    "from nltk.corpus import cmudict"
   ]
  },
  {
   "cell_type": "code",
   "execution_count": 8,
   "metadata": {
    "collapsed": false
   },
   "outputs": [
    {
     "data": {
      "text/plain": [
       "('abdication', ['AE2', 'B', 'D', 'IH0', 'K', 'EY1', 'SH', 'AH0', 'N'])"
      ]
     },
     "execution_count": 8,
     "metadata": {},
     "output_type": "execute_result"
    }
   ],
   "source": [
    "cmudict.entries()[100]"
   ]
  },
  {
   "cell_type": "code",
   "execution_count": 5,
   "metadata": {
    "collapsed": false
   },
   "outputs": [
    {
     "data": {
      "text/plain": [
       "[['HH', 'AH0', 'L', 'OW1'], ['HH', 'EH0', 'L', 'OW1']]"
      ]
     },
     "execution_count": 5,
     "metadata": {},
     "output_type": "execute_result"
    }
   ],
   "source": [
    "cmudict.dict()['hello']"
   ]
  },
  {
   "cell_type": "code",
   "execution_count": 48,
   "metadata": {
    "collapsed": false
   },
   "outputs": [],
   "source": [
    "def MED(w1, w2):\n",
    "    cost = []\n",
    "    del_cost = 1\n",
    "    add_cost = 1\n",
    "    sub_cost = 2\n",
    "    \n",
    "    vowels = ['A', 'E', 'I', 'O', 'U']\n",
    "    voiced = ['B', 'D', 'G', 'J', 'L', 'M', 'N', 'R', 'V', 'W', 'Y', 'Z']\n",
    "    unvoiced = ['C', 'F', 'H', 'K', 'P', 'S', 'T']\n",
    "    \n",
    "    for i in range(len(w1)+1):\n",
    "        x = []\n",
    "        for j in range(len(w2)+1):\n",
    "            x.append(0)\n",
    "        cost.append(x)\n",
    "    \n",
    "    for i in range(len(w1)+1):\n",
    "        cost[i][0] = i\n",
    "    for j in range(len(w2)+1):\n",
    "        cost[0][j] = j\n",
    "        \n",
    "    for i in range(1, len(w1)+1):\n",
    "        for j in range(1, len(w2)+1):\n",
    "            \n",
    "            # if they are the same:\n",
    "            if w1[i-1] == w2[j-1]:\n",
    "                del_total = cost[i-1][j] + 10\n",
    "                add_total = cost[i][j-1] + 10\n",
    "                sub_total = cost[i-1][j-1]\n",
    "            \n",
    "            # if they are both vowels:\n",
    "            elif w1[i-1][0] in vowels and w2[j-1][0] in vowels:\n",
    "                del_total = cost[i-1][j] + del_cost\n",
    "                add_total = cost[i][j-1] + add_cost\n",
    "                sub_total = cost[i-1][j-1] + sub_cost\n",
    "                    \n",
    "            # if only one is a vowel:\n",
    "            elif w1[i-1][0] in vowels or w2[j-1][0] in vowels:\n",
    "                del_total = cost[i-1][j] + del_cost + 1\n",
    "                add_total = cost[i][j-1] + add_cost + 1\n",
    "                sub_total = cost[i-1][j-1] + sub_cost + 1\n",
    "                    \n",
    "            # if both are voiced consonants:\n",
    "            elif w1[i-1][0] in voiced and w2[j-1][0] in voiced:\n",
    "                del_total = cost[i-1][j] + del_cost\n",
    "                add_total = cost[i][j-1] + add_cost\n",
    "                sub_total = cost[i-1][j-1] + 1\n",
    "            \n",
    "            # if both are unvoiced consonants:\n",
    "            elif w1[i-1][0] in voiced and w2[j-1][0] in unvoiced:\n",
    "                del_total = cost[i-1][j] + del_cost\n",
    "                add_total = cost[i][j-1] + add_cost\n",
    "                sub_total = cost[i-1][j-1] + 1\n",
    "            \n",
    "            # if one is voiced and the other is unvoiced:\n",
    "            else:\n",
    "                del_total = cost[i-1][j] + del_cost\n",
    "                add_total = cost[i][j-1] + add_cost\n",
    "                sub_total = cost[i-1][j-1] + sub_cost\n",
    "                    \n",
    "            options = [del_total, add_total, sub_total]\n",
    "            options.sort()\n",
    "            cost[i][j] = options[0]\n",
    "           \n",
    "    return cost[-1][-1]"
   ]
  },
  {
   "cell_type": "code",
   "execution_count": 49,
   "metadata": {
    "collapsed": false
   },
   "outputs": [],
   "source": [
    "w = 'test'\n",
    "w2 = 'beast'\n",
    "res = MED(cmudict.dict()[w][0], cmudict.dict()[w2][0])"
   ]
  },
  {
   "cell_type": "code",
   "execution_count": 50,
   "metadata": {
    "collapsed": false
   },
   "outputs": [
    {
     "data": {
      "text/plain": [
       "4"
      ]
     },
     "execution_count": 50,
     "metadata": {},
     "output_type": "execute_result"
    }
   ],
   "source": [
    "res"
   ]
  },
  {
   "cell_type": "code",
   "execution_count": 24,
   "metadata": {
    "collapsed": false
   },
   "outputs": [
    {
     "name": "stdout",
     "output_type": "stream",
     "text": [
      "[['T', 'EH1', 'S', 'T']]\n"
     ]
    }
   ],
   "source": [
    "print(cmudict.dict()[w])"
   ]
  },
  {
   "cell_type": "code",
   "execution_count": 78,
   "metadata": {
    "collapsed": false
   },
   "outputs": [],
   "source": [
    "w = 'states'\n",
    "word1 = cmudict.dict()[w][0]\n",
    "options = []\n",
    "for entry in cmudict.entries():\n",
    "    price = MED(word1, entry[1])\n",
    "    if price < 3 and w not in entry[0]:\n",
    "        options.append(entry[0])"
   ]
  },
  {
   "cell_type": "code",
   "execution_count": 79,
   "metadata": {
    "collapsed": false
   },
   "outputs": [
    {
     "data": {
      "text/plain": [
       "47"
      ]
     },
     "execution_count": 79,
     "metadata": {},
     "output_type": "execute_result"
    }
   ],
   "source": [
    "len(options)"
   ]
  },
  {
   "cell_type": "code",
   "execution_count": 80,
   "metadata": {
    "collapsed": false
   },
   "outputs": [
    {
     "data": {
      "text/plain": [
       "['ates',\n",
       " 'aytes',\n",
       " \"eight's\",\n",
       " 'eights',\n",
       " 'est',\n",
       " 'estate',\n",
       " \"estate's\",\n",
       " 'sate',\n",
       " 'sates',\n",
       " 'scates']"
      ]
     },
     "execution_count": 80,
     "metadata": {},
     "output_type": "execute_result"
    }
   ],
   "source": [
    "options[:10]"
   ]
  },
  {
   "cell_type": "code",
   "execution_count": null,
   "metadata": {
    "collapsed": true
   },
   "outputs": [],
   "source": []
  }
 ],
 "metadata": {
  "anaconda-cloud": {},
  "kernelspec": {
   "display_name": "Python 3",
   "language": "python",
   "name": "python3"
  },
  "language_info": {
   "codemirror_mode": {
    "name": "ipython",
    "version": 3
   },
   "file_extension": ".py",
   "mimetype": "text/x-python",
   "name": "python",
   "nbconvert_exporter": "python",
   "pygments_lexer": "ipython3",
   "version": "3.5.2"
  }
 },
 "nbformat": 4,
 "nbformat_minor": 1
}
