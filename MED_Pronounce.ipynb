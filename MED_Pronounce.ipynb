{
 "cells": [
  {
   "cell_type": "code",
   "execution_count": 1,
   "metadata": {
    "collapsed": false
   },
   "outputs": [],
   "source": [
    "from nltk.corpus import cmudict, stopwords, words\n",
    "from nltk import pos_tag\n",
    "import random\n",
    "import csv"
   ]
  },
  {
   "cell_type": "code",
   "execution_count": 2,
   "metadata": {
    "collapsed": false
   },
   "outputs": [
    {
     "data": {
      "text/plain": [
       "[['HH', 'AH0', 'L', 'OW1'], ['HH', 'EH0', 'L', 'OW1']]"
      ]
     },
     "execution_count": 2,
     "metadata": {},
     "output_type": "execute_result"
    }
   ],
   "source": [
    "cmudict.dict()['hello']"
   ]
  },
  {
   "cell_type": "code",
   "execution_count": 20,
   "metadata": {
    "collapsed": false
   },
   "outputs": [],
   "source": [
    "def MED(w1, w2):\n",
    "    \n",
    "    cost = []\n",
    "#     del_cost = 1\n",
    "#     add_cost = 1\n",
    "#     sub_cost = 2\n",
    "    \n",
    "    vowels = ['A', 'E', 'I', 'O', 'U']\n",
    "    voiced = ['B', 'D', 'G', 'J', 'L', 'M', 'N', 'R', 'V', 'W', 'Y', 'Z']\n",
    "    unvoiced = ['C', 'F', 'H', 'K', 'P', 'S', 'T']\n",
    "    \n",
    "    for i in range(len(w1)+1):\n",
    "        x = []\n",
    "        for j in range(len(w2)+1):\n",
    "            x.append(0)\n",
    "        cost.append(x)\n",
    "    \n",
    "    for i in range(len(w1)+1):\n",
    "        cost[i][0] = i\n",
    "    for j in range(len(w2)+1):\n",
    "        cost[0][j] = j\n",
    "        \n",
    "    for i in range(1, len(w1)+1):\n",
    "        for j in range(1, len(w2)+1):\n",
    "            \n",
    "            # if they are the same:\n",
    "            if w1[i-1] == w2[j-1]:\n",
    "                del_total = cost[i-1][j] + 10\n",
    "                add_total = cost[i][j-1] + 10\n",
    "                sub_total = cost[i-1][j-1]\n",
    "            \n",
    "            # if they are both vowels:\n",
    "            elif w1[i-1][0] in vowels and w2[j-1][0] in vowels:\n",
    "                del_total = cost[i-1][j] + 1\n",
    "                add_total = cost[i][j-1] + 1\n",
    "                sub_total = cost[i-1][j-1] + 2\n",
    "                    \n",
    "            # if only one is a vowel:\n",
    "            elif w1[i-1][0] in vowels or w2[j-1][0] in vowels:\n",
    "                del_total = cost[i-1][j] + 2\n",
    "                add_total = cost[i][j-1] + 2\n",
    "                sub_total = cost[i-1][j-1] + 3\n",
    "                    \n",
    "            # if both are voiced consonants:\n",
    "            elif w1[i-1][0] in voiced and w2[j-1][0] in voiced:\n",
    "                del_total = cost[i-1][j] + 1\n",
    "                add_total = cost[i][j-1] + 1\n",
    "                sub_total = cost[i-1][j-1] + 1\n",
    "            \n",
    "            # if both are unvoiced consonants:\n",
    "            elif w1[i-1][0] in voiced and w2[j-1][0] in unvoiced:\n",
    "                del_total = cost[i-1][j] + 1\n",
    "                add_total = cost[i][j-1] + 1\n",
    "                sub_total = cost[i-1][j-1] + 1\n",
    "            \n",
    "            # if one is voiced and the other is unvoiced:\n",
    "            else:\n",
    "                del_total = cost[i-1][j] + 1\n",
    "                add_total = cost[i][j-1] + 1\n",
    "                sub_total = cost[i-1][j-1] + 1\n",
    "                    \n",
    "            options = [del_total, add_total, sub_total]\n",
    "            options.sort()\n",
    "            cost[i][j] = options[0]\n",
    "           \n",
    "    return cost[-1][-1]"
   ]
  },
  {
   "cell_type": "code",
   "execution_count": 21,
   "metadata": {
    "collapsed": false
   },
   "outputs": [],
   "source": [
    "w = 'test'\n",
    "w2 = 'beast'\n",
    "res = MED(cmudict.dict()[w][0], cmudict.dict()[w2][0])"
   ]
  },
  {
   "cell_type": "code",
   "execution_count": 22,
   "metadata": {
    "collapsed": false
   },
   "outputs": [
    {
     "data": {
      "text/plain": [
       "3"
      ]
     },
     "execution_count": 22,
     "metadata": {},
     "output_type": "execute_result"
    }
   ],
   "source": [
    "res"
   ]
  },
  {
   "cell_type": "code",
   "execution_count": 6,
   "metadata": {
    "collapsed": true
   },
   "outputs": [],
   "source": [
    "real_list = []\n",
    "real_dict = []\n",
    "with open('real_words_lower.csv', 'r') as csvfile:\n",
    "    reader = csv.reader(csvfile)\n",
    "    for row in reader:\n",
    "        real_list.append((row[0], eval(row[1])))\n",
    "        real_dict.append(row[0])"
   ]
  },
  {
   "cell_type": "code",
   "execution_count": 7,
   "metadata": {
    "collapsed": false
   },
   "outputs": [],
   "source": [
    "real_dict = set(real_dict)"
   ]
  },
  {
   "cell_type": "code",
   "execution_count": 23,
   "metadata": {
    "collapsed": false
   },
   "outputs": [],
   "source": [
    "w = 'find'\n",
    "word1 = cmudict.dict()[w][0]\n",
    "options = []\n",
    "for entry in real_list:\n",
    "    price = MED(word1, entry[1])\n",
    "    if price < 3 and w not in entry[0]:\n",
    "        options.append(entry)"
   ]
  },
  {
   "cell_type": "code",
   "execution_count": 24,
   "metadata": {
    "collapsed": false
   },
   "outputs": [
    {
     "data": {
      "text/plain": [
       "70"
      ]
     },
     "execution_count": 24,
     "metadata": {},
     "output_type": "execute_result"
    }
   ],
   "source": [
    "len(options)"
   ]
  },
  {
   "cell_type": "code",
   "execution_count": 25,
   "metadata": {
    "collapsed": false
   },
   "outputs": [
    {
     "data": {
      "text/plain": [
       "[('fire', ['F', 'AY1', 'R']),\n",
       " ('five', ['F', 'AY1', 'V']),\n",
       " ('fives', ['F', 'AY1', 'V', 'Z']),\n",
       " ('found', ['F', 'AW1', 'N', 'D']),\n",
       " ('fund', ['F', 'AH1', 'N', 'D']),\n",
       " ('fyke', ['F', 'AY1', 'K']),\n",
       " ('grind', ['G', 'R', 'AY1', 'N', 'D']),\n",
       " ('gyn', ['G', 'AY1', 'N']),\n",
       " ('hein', ['HH', 'AY1', 'N']),\n",
       " ('heinz', ['HH', 'AY1', 'N', 'Z']),\n",
       " ('hind', ['HH', 'AY1', 'N', 'D']),\n",
       " ('jain', ['JH', 'AY1', 'N']),\n",
       " ('kind', ['K', 'AY1', 'N', 'D']),\n",
       " ('line', ['L', 'AY1', 'N']),\n",
       " ('lined', ['L', 'AY1', 'N', 'D']),\n",
       " ('lived', ['L', 'AY1', 'V', 'D']),\n",
       " ('mild', ['M', 'AY1', 'L', 'D']),\n",
       " ('mind', ['M', 'AY1', 'N', 'D']),\n",
       " ('mine', ['M', 'AY1', 'N']),\n",
       " ('mines', ['M', 'AY1', 'N', 'Z'])]"
      ]
     },
     "execution_count": 25,
     "metadata": {},
     "output_type": "execute_result"
    }
   ],
   "source": [
    "options[20:40]"
   ]
  },
  {
   "cell_type": "code",
   "execution_count": 29,
   "metadata": {
    "collapsed": false
   },
   "outputs": [],
   "source": [
    "def main():\n",
    "    phrase = input('Enter a phrase: ').lower()\n",
    "    word_list = phrase.split()\n",
    "    \n",
    "    choice_list = []\n",
    "    for word in word_list:\n",
    "        if word in stopwords.words('english'):\n",
    "            choice_list.append([])\n",
    "        elif word in real_dict:\n",
    "            choices = []\n",
    "            pos1 = pos_tag([word])[0][1]\n",
    "            w1 = cmudict.dict()[word][0]\n",
    "            for entry in real_list:\n",
    "                pos2 = pos_tag([entry[0]])[0][1]\n",
    "                if pos1 == pos2:\n",
    "                    price = MED(w1, entry[1])\n",
    "                    if price < 3 and word not in entry[0]:\n",
    "                        choices.append(entry[0])\n",
    "            choice_list.append(choices)\n",
    "        else:\n",
    "            choice_list.append([])\n",
    "    \n",
    "    # check to see if any subs were found:\n",
    "    existing_choice = False\n",
    "    for i in choice_list:\n",
    "        if i:\n",
    "            existing_choice = True\n",
    "            break\n",
    "    \n",
    "    if existing_choice:\n",
    "        position_choice = random.randrange(len(choice_list))\n",
    "        while not choice_list[position_choice]:\n",
    "            position_choice = random.randrange(len(choice_list))\n",
    "        sub_choice = random.randrange(len(choice_list[position_choice]))\n",
    "        sub = choice_list[position_choice][sub_choice]\n",
    "        word_list[position_choice] = sub\n",
    "        print(word_list)\n",
    "    else:\n",
    "        print('No suitable substitution found')"
   ]
  },
  {
   "cell_type": "code",
   "execution_count": 37,
   "metadata": {
    "collapsed": false
   },
   "outputs": [
    {
     "name": "stdout",
     "output_type": "stream",
     "text": [
      "Enter a phrase: code edits are required\n",
      "['gnome', 'edits', 'are', 'required']\n"
     ]
    }
   ],
   "source": [
    "main()"
   ]
  },
  {
   "cell_type": "code",
   "execution_count": null,
   "metadata": {
    "collapsed": true
   },
   "outputs": [],
   "source": []
  }
 ],
 "metadata": {
  "anaconda-cloud": {},
  "kernelspec": {
   "display_name": "Python 3",
   "language": "python",
   "name": "python3"
  },
  "language_info": {
   "codemirror_mode": {
    "name": "ipython",
    "version": 3
   },
   "file_extension": ".py",
   "mimetype": "text/x-python",
   "name": "python",
   "nbconvert_exporter": "python",
   "pygments_lexer": "ipython3",
   "version": "3.5.2"
  }
 },
 "nbformat": 4,
 "nbformat_minor": 1
}
