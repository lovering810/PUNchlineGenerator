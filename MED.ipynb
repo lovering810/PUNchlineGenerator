{
 "cells": [
  {
   "cell_type": "code",
   "execution_count": 41,
   "metadata": {
    "collapsed": true
   },
   "outputs": [],
   "source": [
    "cost = []\n",
    "word1 = 'cat'\n",
    "word2 = 'cart'"
   ]
  },
  {
   "cell_type": "code",
   "execution_count": 43,
   "metadata": {
    "collapsed": false
   },
   "outputs": [],
   "source": [
    "for i in range(len(word1)+1):\n",
    "    x = []\n",
    "    for j in range(len(word2)+1):\n",
    "        x.append(0)\n",
    "    cost.append(x)"
   ]
  },
  {
   "cell_type": "code",
   "execution_count": 44,
   "metadata": {
    "collapsed": false
   },
   "outputs": [
    {
     "name": "stdout",
     "output_type": "stream",
     "text": [
      "[0, 0, 0, 0, 0]\n",
      "[0, 0, 0, 0, 0]\n",
      "[0, 0, 0, 0, 0]\n",
      "[0, 0, 0, 0, 0]\n"
     ]
    }
   ],
   "source": [
    "for row in cost:\n",
    "    print(row)"
   ]
  },
  {
   "cell_type": "code",
   "execution_count": 45,
   "metadata": {
    "collapsed": true
   },
   "outputs": [],
   "source": [
    "for i in range(len(word1)+1):\n",
    "    cost[i][0] = i\n",
    "for j in range(len(word2)+1):\n",
    "    cost[0][j] = j"
   ]
  },
  {
   "cell_type": "code",
   "execution_count": 46,
   "metadata": {
    "collapsed": false
   },
   "outputs": [
    {
     "name": "stdout",
     "output_type": "stream",
     "text": [
      "[0, 1, 2, 3, 4]\n",
      "[1, 0, 0, 0, 0]\n",
      "[2, 0, 0, 0, 0]\n",
      "[3, 0, 0, 0, 0]\n"
     ]
    }
   ],
   "source": [
    "for row in cost:\n",
    "    print(row)"
   ]
  },
  {
   "cell_type": "code",
   "execution_count": 47,
   "metadata": {
    "collapsed": true
   },
   "outputs": [],
   "source": [
    "del_cost = 1\n",
    "add_cost = 1\n",
    "sub_cost = 2"
   ]
  },
  {
   "cell_type": "code",
   "execution_count": 48,
   "metadata": {
    "collapsed": true
   },
   "outputs": [],
   "source": [
    "for i in range(1, len(word1)+1):\n",
    "    for j in range(1, len(word2)+1):\n",
    "        del_total = cost[i-1][j] + del_cost\n",
    "        add_total = cost[i][j-1] + add_cost\n",
    "        if word1[i-1] == word2[j-1]:\n",
    "            sub_total = cost[i-1][j-1]\n",
    "        else:\n",
    "            sub_total = cost[i-1][j-1] + sub_cost\n",
    "        options = [del_total, add_total, sub_total]\n",
    "        options.sort()\n",
    "        cost[i][j] = options[0]"
   ]
  },
  {
   "cell_type": "code",
   "execution_count": 49,
   "metadata": {
    "collapsed": false
   },
   "outputs": [
    {
     "name": "stdout",
     "output_type": "stream",
     "text": [
      "[0, 1, 2, 3, 4]\n",
      "[1, 0, 1, 2, 3]\n",
      "[2, 1, 0, 1, 2]\n",
      "[3, 2, 1, 2, 1]\n"
     ]
    }
   ],
   "source": [
    "for row in cost:\n",
    "    print(row)"
   ]
  },
  {
   "cell_type": "code",
   "execution_count": 50,
   "metadata": {
    "collapsed": false
   },
   "outputs": [
    {
     "name": "stdout",
     "output_type": "stream",
     "text": [
      "1\n"
     ]
    }
   ],
   "source": [
    "print(cost[-1][-1])"
   ]
  },
  {
   "cell_type": "code",
   "execution_count": null,
   "metadata": {
    "collapsed": true
   },
   "outputs": [],
   "source": []
  }
 ],
 "metadata": {
  "anaconda-cloud": {},
  "kernelspec": {
   "display_name": "Python 3",
   "language": "python",
   "name": "python3"
  },
  "language_info": {
   "codemirror_mode": {
    "name": "ipython",
    "version": 3
   },
   "file_extension": ".py",
   "mimetype": "text/x-python",
   "name": "python",
   "nbconvert_exporter": "python",
   "pygments_lexer": "ipython3",
   "version": "3.5.2"
  }
 },
 "nbformat": 4,
 "nbformat_minor": 1
}
